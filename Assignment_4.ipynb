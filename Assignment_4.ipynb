{
  "nbformat": 4,
  "nbformat_minor": 0,
  "metadata": {
    "colab": {
      "provenance": [],
      "authorship_tag": "ABX9TyPECcA310HBlxkY60PTZ/xO",
      "include_colab_link": true
    },
    "kernelspec": {
      "name": "python3",
      "display_name": "Python 3"
    },
    "language_info": {
      "name": "python"
    }
  },
  "cells": [
    {
      "cell_type": "markdown",
      "metadata": {
        "id": "view-in-github",
        "colab_type": "text"
      },
      "source": [
        "<a href=\"https://colab.research.google.com/github/aqilahkasim/Computational-Mathematics/blob/main/Assignment_4.ipynb\" target=\"_parent\"><img src=\"https://colab.research.google.com/assets/colab-badge.svg\" alt=\"Open In Colab\"/></a>"
      ]
    },
    {
      "cell_type": "code",
      "execution_count": 8,
      "metadata": {
        "id": "93VfCfI65zBD"
      },
      "outputs": [],
      "source": []
    },
    {
      "cell_type": "markdown",
      "source": [
        "Question 1)B)"
      ],
      "metadata": {
        "id": "mkU_wL_97S_0"
      }
    },
    {
      "cell_type": "code",
      "source": [
        "import numpy as np\n",
        "\n",
        "def normalize(x):\n",
        "    fac = abs(x).max()\n",
        "    x_n = x / x\n",
        "    return fac, x_n\n",
        "\n",
        "x = np.array([0, 1, 1])\n",
        "A = np.array([[0, 11, -5], [-2, 17, -7], [-4, 26, -10]])\n",
        "\n",
        "for i in range(8):\n",
        "    x = np.dot(A, x)\n",
        "    lambda_1, x = normalize(x)\n",
        "    print(\"Eigen-value: \", round(lambda_1, 2))\n",
        "    print(\"Eigen-vector: \", x)"
      ],
      "metadata": {
        "colab": {
          "base_uri": "https://localhost:8080/"
        },
        "id": "XyfsvOKC5-wj",
        "outputId": "a2f35080-08a8-459b-bcd1-332bb8b197fc"
      },
      "execution_count": 5,
      "outputs": [
        {
          "output_type": "stream",
          "name": "stdout",
          "text": [
            "Eigen-value:  16\n",
            "Eigen-vector:  [1. 1. 1.]\n",
            "Eigen-value:  12.0\n",
            "Eigen-vector:  [1. 1. 1.]\n",
            "Eigen-value:  12.0\n",
            "Eigen-vector:  [1. 1. 1.]\n",
            "Eigen-value:  12.0\n",
            "Eigen-vector:  [1. 1. 1.]\n",
            "Eigen-value:  12.0\n",
            "Eigen-vector:  [1. 1. 1.]\n",
            "Eigen-value:  12.0\n",
            "Eigen-vector:  [1. 1. 1.]\n",
            "Eigen-value:  12.0\n",
            "Eigen-vector:  [1. 1. 1.]\n",
            "Eigen-value:  12.0\n",
            "Eigen-vector:  [1. 1. 1.]\n"
          ]
        }
      ]
    },
    {
      "cell_type": "markdown",
      "source": [
        "Question 1)C)"
      ],
      "metadata": {
        "id": "l4Ftd_Aj7Yi5"
      }
    },
    {
      "cell_type": "code",
      "source": [
        "from numpy.linalg import inv\n",
        "x = np.array ([1.0, 0.25, 1.0])\n",
        "A = np.array ([[0, 11, -5], [-2, 17, -7],[-4, 26, -10]])\n",
        "A_inv = inv(A)\n",
        "for i in range (8):\n",
        "    x = np.dot(A_inv, x)\n",
        "    lambda_3, x = normalize(x)\n",
        "print (\"Eigen-value: \", round(lambda_3,2))\n",
        "print (\"Eigen-vector: \", x)"
      ],
      "metadata": {
        "colab": {
          "base_uri": "https://localhost:8080/"
        },
        "id": "-3OUiklN7fKs",
        "outputId": "51bec785-319b-47f4-ca4c-d2610cad7fe0"
      },
      "execution_count": 8,
      "outputs": [
        {
          "output_type": "stream",
          "name": "stdout",
          "text": [
            "Eigen-value:  1.0\n",
            "Eigen-vector:  [0.50021805 0.49999915 1.        ]\n"
          ]
        }
      ]
    },
    {
      "cell_type": "markdown",
      "source": [
        "Question 2)i)"
      ],
      "metadata": {
        "id": "bjdM1t8l_g6v"
      }
    },
    {
      "cell_type": "code",
      "source": [
        "import numpy as np\n",
        "def divided_diff(x,y):\n",
        "    #function to calculate the divided differences table\n",
        "    n = len(y)\n",
        "    coef = np.zeros([n,n])\n",
        "    # the first column is y\n",
        "    coef[:,0] = y\n",
        "    for j in range(1,n):\n",
        "        for i in range(n-j):\n",
        "            coef[i][j] = \\\n",
        "            (coef[i+1][j-1] - coef[i][j-1]) / (x[i+j]-x[i])\n",
        "    return coef\n",
        "def newton_poly(coef, x_data, x):\n",
        "    #evaluate the newton polynomial at x\n",
        "    n = len(x_data) - 1\n",
        "    p = coef[n]\n",
        "    for k in range(1, n+1):\n",
        "        p = coef[n-k] + (x-x_data[n-k])*p\n",
        "    return p\n",
        "#Add the input data (x,y)\n",
        "x = [5, 20, 30, 50, 55]\n",
        "y = [0.0800, 0.0150, 0.0090, 0.0060, 0.0055]\n",
        "#get the divided difference coef\n",
        "a_s = divided_diff(x, y)[0,:]\n",
        "#evaluate on new data points\n",
        "x_new = 40\n",
        "y_new = newton_poly(a_s, x, x_new)\n",
        "print(\"x = \", x_new)\n",
        "print(\"y_hat = \", round(y_new, 4))"
      ],
      "metadata": {
        "colab": {
          "base_uri": "https://localhost:8080/"
        },
        "id": "RTjuiBcE_gWP",
        "outputId": "fd7baf86-4cc6-4f51-bebd-94e8cdeb3a1f"
      },
      "execution_count": 10,
      "outputs": [
        {
          "output_type": "stream",
          "name": "stdout",
          "text": [
            "x =  40\n",
            "y_hat =  0.0083\n"
          ]
        }
      ]
    },
    {
      "cell_type": "markdown",
      "source": [
        "Question 2)ii)"
      ],
      "metadata": {
        "id": "IVY5ZGXXBzh6"
      }
    },
    {
      "cell_type": "code",
      "source": [
        "from scipy.interpolate import lagrange\n",
        "#Add the input data (x,y)\n",
        "x = [5, 20, 30, 50, 55]\n",
        "y = [0.0800, 0.0150, 0.0090, 0.0060, 0.0055]\n",
        "#evaluate on new data points\n",
        "f = lagrange(x,y)\n",
        "x_new2 = 40\n",
        "y_new2 = f(x_new2)\n",
        "print(\"x = \", x_new2)\n",
        "print(\"y_hat = \", round(y_new2, 4))"
      ],
      "metadata": {
        "colab": {
          "base_uri": "https://localhost:8080/"
        },
        "id": "1QuBYy4SB20l",
        "outputId": "ce66dc04-575a-495b-c6c5-b6d0e7b1381a"
      },
      "execution_count": 11,
      "outputs": [
        {
          "output_type": "stream",
          "name": "stdout",
          "text": [
            "x =  40\n",
            "y_hat =  0.0083\n"
          ]
        }
      ]
    },
    {
      "cell_type": "markdown",
      "source": [
        "Question 3)A) & B)"
      ],
      "metadata": {
        "id": "gfxlm53RCvtq"
      }
    },
    {
      "cell_type": "code",
      "source": [
        "from scipy import optimize\n",
        "# Add the input data (Profit, S)\n",
        "Profit = [10, 16, 25, 40, 60]  # Profit values\n",
        "x = [94, 118, 147, 180, 230]  # S (labour cost)\n",
        "def func(S, a, b):\n",
        "    y = a + b * S\n",
        "    return y\n",
        "alpha = optimize.curve_fit(func, xdata=x, ydata=Profit)[0]\n",
        "a0 = round(alpha[0], 2)\n",
        "a1 = round(alpha[1], 2)\n",
        "print(\"a0 = \", a0)\n",
        "print(\"a1 = \", a1)\n",
        "x_new3 = 210\n",
        "estimate_f = a0 + a1 * (x_new3)\n",
        "print(\"S = \", x_new3)\n",
        "print(\"Profit_estimate = \", estimate_f)"
      ],
      "metadata": {
        "colab": {
          "base_uri": "https://localhost:8080/"
        },
        "id": "Votolsk-C0Z9",
        "outputId": "9e792a1a-d590-40f7-b433-f8b2c99eacaa"
      },
      "execution_count": 16,
      "outputs": [
        {
          "output_type": "stream",
          "name": "stdout",
          "text": [
            "a0 =  -27.55\n",
            "a1 =  0.38\n",
            "S =  210\n",
            "Profit_estimate =  52.25\n"
          ]
        }
      ]
    },
    {
      "cell_type": "markdown",
      "source": [
        "Question 4 A)"
      ],
      "metadata": {
        "id": "S1oaI-SPJIoo"
      }
    },
    {
      "cell_type": "code",
      "source": [
        "insert code here"
      ],
      "metadata": {
        "id": "WwfHDJSwJQUh"
      },
      "execution_count": null,
      "outputs": []
    },
    {
      "cell_type": "markdown",
      "source": [
        "Question 4 B)"
      ],
      "metadata": {
        "id": "8hFZdMuyJTAS"
      }
    },
    {
      "cell_type": "code",
      "source": [
        "insert code here"
      ],
      "metadata": {
        "id": "lK5HGGeeJVbS"
      },
      "execution_count": null,
      "outputs": []
    },
    {
      "cell_type": "markdown",
      "source": [
        "Question 4 C)"
      ],
      "metadata": {
        "id": "yc_bl2ccJXoW"
      }
    },
    {
      "cell_type": "code",
      "source": [
        "if have code insert here, if not delete this"
      ],
      "metadata": {
        "id": "CzZWP9HPJbiK"
      },
      "execution_count": null,
      "outputs": []
    },
    {
      "cell_type": "markdown",
      "source": [
        "Question 5 A)"
      ],
      "metadata": {
        "id": "z9Y9W-BCJgeA"
      }
    },
    {
      "cell_type": "code",
      "source": [
        "import numpy as np\n",
        "\n",
        "# Define function to integrate\n",
        "def f(x):\n",
        "    return 2 / (1 + 5 * x**2)\n",
        "\n",
        "# Implementing trapezoidal method\n",
        "def trapezoidal(x0, xn, n):\n",
        "    # Calculating step size\n",
        "    h = (xn - x0) / n\n",
        "    # Finding sum\n",
        "    integration = f(x0) + f(xn)\n",
        "    for i in range(1, n):\n",
        "        k = x0 + i * h\n",
        "        integration += 2 * f(k)\n",
        "    # Finding final integration value\n",
        "    integration *= h / 2\n",
        "    return integration\n",
        "\n",
        "# Input section\n",
        "lower_limit = float(input(\"Enter lower limit: \"))\n",
        "upper_limit = float(input(\"Enter upper limit: \"))\n",
        "sub_interval = int(input(\"Enter number of sub intervals: \"))\n",
        "\n",
        "# Call trapezoidal() method and get result\n",
        "result = trapezoidal(lower_limit, upper_limit, sub_interval)\n",
        "print(\"Integration result by Trapezoidal method is: %0.4f\" % result)"
      ],
      "metadata": {
        "colab": {
          "base_uri": "https://localhost:8080/"
        },
        "id": "mf0xrMyTJj7E",
        "outputId": "6ae686f5-8b52-4858-f8db-cff706891111"
      },
      "execution_count": 17,
      "outputs": [
        {
          "output_type": "stream",
          "name": "stdout",
          "text": [
            "Enter lower limit: 0\n",
            "Enter upper limit: 3\n",
            "Enter number of sub intervals: 6\n",
            "Integration result by Trapezoidal method is: 1.2822\n"
          ]
        }
      ]
    },
    {
      "cell_type": "markdown",
      "source": [
        "Question 5 B)"
      ],
      "metadata": {
        "id": "_cfHvQffLMex"
      }
    },
    {
      "cell_type": "code",
      "source": [
        "import numpy as np\n",
        "\n",
        "# Define function to integrate\n",
        "def f(x):\n",
        "    return 2 / (1 + 5 * x**2)\n",
        "\n",
        "# Implementing Simpson's 1/3\n",
        "def simpson13(x0, xn, n):\n",
        "    # Calculating step size\n",
        "    h = (xn - x0) / n\n",
        "\n",
        "    # Finding sum\n",
        "    integration = f(x0) + f(xn)\n",
        "    for i in range(1, n):\n",
        "        k = x0 + i * h\n",
        "        if i % 2 == 0:\n",
        "            integration += 2 * f(k)\n",
        "        else:\n",
        "            integration += 4 * f(k)\n",
        "    # Finding final integration value\n",
        "    integration *= h / 3\n",
        "    return integration\n",
        "\n",
        "# Input section\n",
        "lower_limit = float(input(\"Enter lower limit: \"))\n",
        "upper_limit = float(input(\"Enter upper limit: \"))\n",
        "sub_interval = int(input(\"Enter number of sub intervals: \"))\n",
        "\n",
        "# Call simpson13() method to get result\n",
        "result = simpson13(lower_limit, upper_limit, sub_interval)\n",
        "print(\"Integration result by Simpson's 1/3 method is: %0.4f\" % result)"
      ],
      "metadata": {
        "colab": {
          "base_uri": "https://localhost:8080/"
        },
        "id": "3YXxfcVFLQDb",
        "outputId": "b709ddab-ff29-4591-b7a5-a49057834651"
      },
      "execution_count": 24,
      "outputs": [
        {
          "output_type": "stream",
          "name": "stdout",
          "text": [
            "Enter lower limit: 0\n",
            "Enter upper limit: 3\n",
            "Enter number of sub intervals (must be even): 6\n",
            "Integration result by Simpson's 1/3 method is: 1.2262\n"
          ]
        }
      ]
    },
    {
      "cell_type": "markdown",
      "source": [
        "Question 5 C)"
      ],
      "metadata": {
        "id": "OZHivfRHM_yj"
      }
    },
    {
      "cell_type": "code",
      "source": [
        "import numpy as np\n",
        "\n",
        "# Define function to integrate\n",
        "def f(x):\n",
        "    return 2 / (1 + 5 * x**2)\n",
        "\n",
        "# Implementing Simpson's 3/8\n",
        "def simpson38(x0, xn, n):\n",
        "    # Calculating step size\n",
        "    h = (xn - x0) / n\n",
        "    # Finding sum\n",
        "    integration = f(x0) + f(xn)\n",
        "    for i in range(1, n):\n",
        "        k = x0 + i * h\n",
        "        if i % 3 == 0:\n",
        "            integration += 2 * f(k)\n",
        "        else:\n",
        "            integration += 3 * f(k)\n",
        "    # Finding final integration value\n",
        "    integration = integration * 3 * h / 8\n",
        "    return integration\n",
        "\n",
        "# Input section\n",
        "lower_limit = float(input(\"Enter lower limit: \"))\n",
        "upper_limit = float(input(\"Enter upper limit: \"))\n",
        "h = float(input(\"Enter h: \"))\n",
        "\n",
        "# Calculate number of sub intervals\n",
        "n = int((upper_limit - lower_limit) / h)\n",
        "\n",
        "# Call simpson38() method and get result\n",
        "result = simpson38(lower_limit, upper_limit, n)\n",
        "print(\"Integration result by Simpson's 3/8 method is: %0.4f\" % (result))"
      ],
      "metadata": {
        "colab": {
          "base_uri": "https://localhost:8080/"
        },
        "id": "sGG5niCmNCiv",
        "outputId": "ca1e26fd-73af-4a22-9074-fab11f94e061"
      },
      "execution_count": 33,
      "outputs": [
        {
          "output_type": "stream",
          "name": "stdout",
          "text": [
            "Enter lower limit: 0\n",
            "Enter upper limit: 3\n",
            "Enter h: 0.25\n",
            "Integration result by Simpson's 3/8 method is: 1.2642\n"
          ]
        }
      ]
    },
    {
      "cell_type": "markdown",
      "source": [
        "Question 5 D)"
      ],
      "metadata": {
        "id": "Mo6VatxgP2CX"
      }
    },
    {
      "cell_type": "code",
      "source": [
        "import numpy as np\n",
        "\n",
        "# Romberg integration method to integrate a function from a to b.\n",
        "def romberg_integration(func, a, b, n):\n",
        "    # Initialize the Romberg table with zeros\n",
        "    R = np.zeros((n, n))\n",
        "\n",
        "    # Calculate the first column of the Romberg table using trapezoidal rule\n",
        "    h = b - a\n",
        "    R[0, 0] = 1.2822\n",
        "\n",
        "    for i in range(1, n):\n",
        "        h /= 2\n",
        "        sum_f = 0\n",
        "        for k in range(1, 2**i, 2):\n",
        "            sum_f += func(a + k * h)\n",
        "        R[i, 0] = (R[i-1, 0] / 2) + sum_f * h\n",
        "\n",
        "    # Populate the rest of the Romberg table\n",
        "    for j in range(1, n):\n",
        "        for i in range(j, n):\n",
        "            R[i, j] = (4**j * R[i, j-1] - R[i-1, j-1]) / (4**j - 1)\n",
        "\n",
        "    # Return the integral approximation\n",
        "    return R[n - 1, n - 1]\n",
        "\n",
        "# Example usage:\n",
        "def f(x):\n",
        "    return 2 / (1 + 5 * x**2)\n",
        "\n",
        "# Function to integrate\n",
        "a = 1  # Lower limit\n",
        "b = 4  # Upper limit\n",
        "n = 5  # Number of iterations\n",
        "result = romberg_integration(f, a, b, n)\n",
        "print(\"Approximate integral using Romberg method is: %0.4f\" % (result))"
      ],
      "metadata": {
        "colab": {
          "base_uri": "https://localhost:8080/"
        },
        "id": "LwK2Zb-dP5pv",
        "outputId": "9ccccf9d-bed0-4801-d620-815135343333"
      },
      "execution_count": 38,
      "outputs": [
        {
          "output_type": "stream",
          "name": "stdout",
          "text": [
            "Approximate integral using Romberg method is: 0.3050\n"
          ]
        }
      ]
    }
  ]
}